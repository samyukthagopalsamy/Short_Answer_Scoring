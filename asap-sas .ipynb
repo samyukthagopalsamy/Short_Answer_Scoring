{
 "cells": [
  {
   "cell_type": "code",
   "execution_count": 63,
   "metadata": {},
   "outputs": [],
   "source": [
    "import pandas as pd\n",
    "import numpy as np"
   ]
  },
  {
   "cell_type": "code",
   "execution_count": 64,
   "metadata": {},
   "outputs": [
    {
     "data": {
      "text/html": [
       "<div>\n",
       "<style scoped>\n",
       "    .dataframe tbody tr th:only-of-type {\n",
       "        vertical-align: middle;\n",
       "    }\n",
       "\n",
       "    .dataframe tbody tr th {\n",
       "        vertical-align: top;\n",
       "    }\n",
       "\n",
       "    .dataframe thead th {\n",
       "        text-align: right;\n",
       "    }\n",
       "</style>\n",
       "<table border=\"1\" class=\"dataframe\">\n",
       "  <thead>\n",
       "    <tr style=\"text-align: right;\">\n",
       "      <th></th>\n",
       "      <th>Id</th>\n",
       "      <th>answer_set</th>\n",
       "      <th>score1</th>\n",
       "      <th>score2</th>\n",
       "      <th>student_response</th>\n",
       "    </tr>\n",
       "  </thead>\n",
       "  <tbody>\n",
       "    <tr>\n",
       "      <th>0</th>\n",
       "      <td>1</td>\n",
       "      <td>1</td>\n",
       "      <td>1</td>\n",
       "      <td>1</td>\n",
       "      <td>Some additional information that we would need...</td>\n",
       "    </tr>\n",
       "    <tr>\n",
       "      <th>1</th>\n",
       "      <td>2</td>\n",
       "      <td>1</td>\n",
       "      <td>1</td>\n",
       "      <td>1</td>\n",
       "      <td>After reading the expirement, I realized that ...</td>\n",
       "    </tr>\n",
       "    <tr>\n",
       "      <th>2</th>\n",
       "      <td>3</td>\n",
       "      <td>1</td>\n",
       "      <td>1</td>\n",
       "      <td>1</td>\n",
       "      <td>What you need is more trials, a control set up...</td>\n",
       "    </tr>\n",
       "    <tr>\n",
       "      <th>3</th>\n",
       "      <td>4</td>\n",
       "      <td>1</td>\n",
       "      <td>0</td>\n",
       "      <td>0</td>\n",
       "      <td>The student should list what rock is better an...</td>\n",
       "    </tr>\n",
       "    <tr>\n",
       "      <th>4</th>\n",
       "      <td>5</td>\n",
       "      <td>1</td>\n",
       "      <td>2</td>\n",
       "      <td>2</td>\n",
       "      <td>For the students to be able to make a replicat...</td>\n",
       "    </tr>\n",
       "  </tbody>\n",
       "</table>\n",
       "</div>"
      ],
      "text/plain": [
       "   Id  answer_set  score1  score2  \\\n",
       "0   1           1       1       1   \n",
       "1   2           1       1       1   \n",
       "2   3           1       1       1   \n",
       "3   4           1       0       0   \n",
       "4   5           1       2       2   \n",
       "\n",
       "                                    student_response  \n",
       "0  Some additional information that we would need...  \n",
       "1  After reading the expirement, I realized that ...  \n",
       "2  What you need is more trials, a control set up...  \n",
       "3  The student should list what rock is better an...  \n",
       "4  For the students to be able to make a replicat...  "
      ]
     },
     "execution_count": 64,
     "metadata": {},
     "output_type": "execute_result"
    }
   ],
   "source": [
    "train_file_path=\"C:/Users/superuser/Desktop/ResearchProject/Data/asap-sas-train.csv\"\n",
    "training_examples=pd.read_csv(train_file_path,encoding=\"ISO-8859-1\")\n",
    "training_examples.head()"
   ]
  },
  {
   "cell_type": "code",
   "execution_count": 65,
   "metadata": {},
   "outputs": [],
   "source": [
    "# import mxnet as mx\n",
    "# from bert_embedding import BertEmbedding\n",
    "\n",
    "# bert_embedding = BertEmbedding(model='bert_24_1024_16', dataset_name='book_corpus_wiki_en_cased')"
   ]
  },
  {
   "cell_type": "code",
   "execution_count": 66,
   "metadata": {},
   "outputs": [
    {
     "data": {
      "text/html": [
       "<div>\n",
       "<style scoped>\n",
       "    .dataframe tbody tr th:only-of-type {\n",
       "        vertical-align: middle;\n",
       "    }\n",
       "\n",
       "    .dataframe tbody tr th {\n",
       "        vertical-align: top;\n",
       "    }\n",
       "\n",
       "    .dataframe thead th {\n",
       "        text-align: right;\n",
       "    }\n",
       "</style>\n",
       "<table border=\"1\" class=\"dataframe\">\n",
       "  <thead>\n",
       "    <tr style=\"text-align: right;\">\n",
       "      <th></th>\n",
       "      <th>Id</th>\n",
       "      <th>answer_set</th>\n",
       "      <th>student_response</th>\n",
       "    </tr>\n",
       "  </thead>\n",
       "  <tbody>\n",
       "    <tr>\n",
       "      <th>0</th>\n",
       "      <td>1673</td>\n",
       "      <td>1</td>\n",
       "      <td>The procedures I think they should have includ...</td>\n",
       "    </tr>\n",
       "    <tr>\n",
       "      <th>1</th>\n",
       "      <td>1674</td>\n",
       "      <td>1</td>\n",
       "      <td>In order to replicate this experiment, you wou...</td>\n",
       "    </tr>\n",
       "    <tr>\n",
       "      <th>2</th>\n",
       "      <td>1675</td>\n",
       "      <td>1</td>\n",
       "      <td>In order to replicate their experiment, you wo...</td>\n",
       "    </tr>\n",
       "    <tr>\n",
       "      <th>3</th>\n",
       "      <td>1676</td>\n",
       "      <td>1</td>\n",
       "      <td>Pleace a simple of one material into one conta...</td>\n",
       "    </tr>\n",
       "    <tr>\n",
       "      <th>4</th>\n",
       "      <td>1677</td>\n",
       "      <td>1</td>\n",
       "      <td>Determin the mass of four different samples ma...</td>\n",
       "    </tr>\n",
       "  </tbody>\n",
       "</table>\n",
       "</div>"
      ],
      "text/plain": [
       "     Id  answer_set                                   student_response\n",
       "0  1673           1  The procedures I think they should have includ...\n",
       "1  1674           1  In order to replicate this experiment, you wou...\n",
       "2  1675           1  In order to replicate their experiment, you wo...\n",
       "3  1676           1  Pleace a simple of one material into one conta...\n",
       "4  1677           1  Determin the mass of four different samples ma..."
      ]
     },
     "execution_count": 66,
     "metadata": {},
     "output_type": "execute_result"
    }
   ],
   "source": [
    "test_file_path=\"C:/Users/superuser/Desktop/ResearchProject/Data/asap-sas-test.csv\"\n",
    "test_set=pd.read_csv(test_file_path,encoding=\"ISO-8859-1\")\n",
    "test_set.head()"
   ]
  },
  {
   "cell_type": "code",
   "execution_count": 67,
   "metadata": {},
   "outputs": [
    {
     "data": {
      "text/plain": [
       "Id                   int64\n",
       "answer_set           int64\n",
       "score1               int64\n",
       "score2               int64\n",
       "student_response    object\n",
       "dtype: object"
      ]
     },
     "execution_count": 67,
     "metadata": {},
     "output_type": "execute_result"
    }
   ],
   "source": [
    "training_examples.dtypes"
   ]
  },
  {
   "cell_type": "code",
   "execution_count": 68,
   "metadata": {},
   "outputs": [
    {
     "data": {
      "text/plain": [
       "(17043, 5)"
      ]
     },
     "execution_count": 68,
     "metadata": {},
     "output_type": "execute_result"
    }
   ],
   "source": [
    "training_examples.shape # there are around 17000 examples"
   ]
  },
  {
   "cell_type": "code",
   "execution_count": 69,
   "metadata": {},
   "outputs": [
    {
     "data": {
      "text/plain": [
       "array([ 1,  2,  3,  4,  5,  6,  7,  8,  9, 10], dtype=int64)"
      ]
     },
     "execution_count": 69,
     "metadata": {},
     "output_type": "execute_result"
    }
   ],
   "source": [
    "training_examples.answer_set.unique() # there are 10 question prompts covering science and biology. "
   ]
  },
  {
   "cell_type": "code",
   "execution_count": 70,
   "metadata": {},
   "outputs": [
    {
     "data": {
      "text/html": [
       "<div>\n",
       "<style scoped>\n",
       "    .dataframe tbody tr th:only-of-type {\n",
       "        vertical-align: middle;\n",
       "    }\n",
       "\n",
       "    .dataframe tbody tr th {\n",
       "        vertical-align: top;\n",
       "    }\n",
       "\n",
       "    .dataframe thead th {\n",
       "        text-align: right;\n",
       "    }\n",
       "</style>\n",
       "<table border=\"1\" class=\"dataframe\">\n",
       "  <thead>\n",
       "    <tr style=\"text-align: right;\">\n",
       "      <th></th>\n",
       "      <th>Id</th>\n",
       "      <th>score1</th>\n",
       "      <th>score2</th>\n",
       "      <th>student_response</th>\n",
       "    </tr>\n",
       "    <tr>\n",
       "      <th>answer_set</th>\n",
       "      <th></th>\n",
       "      <th></th>\n",
       "      <th></th>\n",
       "      <th></th>\n",
       "    </tr>\n",
       "  </thead>\n",
       "  <tbody>\n",
       "    <tr>\n",
       "      <th>1</th>\n",
       "      <td>1672</td>\n",
       "      <td>1672</td>\n",
       "      <td>1672</td>\n",
       "      <td>1672</td>\n",
       "    </tr>\n",
       "    <tr>\n",
       "      <th>2</th>\n",
       "      <td>1278</td>\n",
       "      <td>1278</td>\n",
       "      <td>1278</td>\n",
       "      <td>1278</td>\n",
       "    </tr>\n",
       "    <tr>\n",
       "      <th>3</th>\n",
       "      <td>1808</td>\n",
       "      <td>1808</td>\n",
       "      <td>1808</td>\n",
       "      <td>1808</td>\n",
       "    </tr>\n",
       "    <tr>\n",
       "      <th>4</th>\n",
       "      <td>1657</td>\n",
       "      <td>1657</td>\n",
       "      <td>1657</td>\n",
       "      <td>1657</td>\n",
       "    </tr>\n",
       "    <tr>\n",
       "      <th>5</th>\n",
       "      <td>1795</td>\n",
       "      <td>1795</td>\n",
       "      <td>1795</td>\n",
       "      <td>1795</td>\n",
       "    </tr>\n",
       "    <tr>\n",
       "      <th>6</th>\n",
       "      <td>1797</td>\n",
       "      <td>1797</td>\n",
       "      <td>1797</td>\n",
       "      <td>1797</td>\n",
       "    </tr>\n",
       "    <tr>\n",
       "      <th>7</th>\n",
       "      <td>1799</td>\n",
       "      <td>1799</td>\n",
       "      <td>1799</td>\n",
       "      <td>1799</td>\n",
       "    </tr>\n",
       "    <tr>\n",
       "      <th>8</th>\n",
       "      <td>1799</td>\n",
       "      <td>1799</td>\n",
       "      <td>1799</td>\n",
       "      <td>1799</td>\n",
       "    </tr>\n",
       "    <tr>\n",
       "      <th>9</th>\n",
       "      <td>1798</td>\n",
       "      <td>1798</td>\n",
       "      <td>1798</td>\n",
       "      <td>1798</td>\n",
       "    </tr>\n",
       "    <tr>\n",
       "      <th>10</th>\n",
       "      <td>1640</td>\n",
       "      <td>1640</td>\n",
       "      <td>1640</td>\n",
       "      <td>1640</td>\n",
       "    </tr>\n",
       "  </tbody>\n",
       "</table>\n",
       "</div>"
      ],
      "text/plain": [
       "              Id  score1  score2  student_response\n",
       "answer_set                                        \n",
       "1           1672    1672    1672              1672\n",
       "2           1278    1278    1278              1278\n",
       "3           1808    1808    1808              1808\n",
       "4           1657    1657    1657              1657\n",
       "5           1795    1795    1795              1795\n",
       "6           1797    1797    1797              1797\n",
       "7           1799    1799    1799              1799\n",
       "8           1799    1799    1799              1799\n",
       "9           1798    1798    1798              1798\n",
       "10          1640    1640    1640              1640"
      ]
     },
     "execution_count": 70,
     "metadata": {},
     "output_type": "execute_result"
    }
   ],
   "source": [
    "training_examples.groupby('answer_set').count() # there are around 1700 examples per question prompt."
   ]
  },
  {
   "cell_type": "code",
   "execution_count": 71,
   "metadata": {},
   "outputs": [
    {
     "name": "stdout",
     "output_type": "stream",
     "text": [
      "Minimum score1: 0\n",
      "Maximum score1: 3\n"
     ]
    }
   ],
   "source": [
    "print(\"Minimum score1:\" , training_examples.min()['score1'])\n",
    "print(\"Maximum score1:\" , training_examples.max()['score1'])"
   ]
  },
  {
   "cell_type": "code",
   "execution_count": 72,
   "metadata": {},
   "outputs": [
    {
     "name": "stdout",
     "output_type": "stream",
     "text": [
      "Minimum score2: 0\n",
      "Maximum score2: 3\n"
     ]
    }
   ],
   "source": [
    "print(\"Minimum score2:\" , training_examples.min()['score2'])\n",
    "print(\"Maximum score2:\" , training_examples.max()['score2'])"
   ]
  },
  {
   "cell_type": "raw",
   "metadata": {},
   "source": [
    "A group of students wrote the following procedure for their investigation.\n",
    "\n",
    "Procedure:\n",
    "1.\tDetermine the mass of four different samples.\n",
    "2.\tPour vinegar in each of four separate, but identical, containers.\n",
    "3.\tPlace a sample of one material into one container and label. Repeat with remaining samples, placing a single sample into a single container.\n",
    "4.\tAfter 24 hours, remove the samples from the containers and rinse each sample with distilled water.\n",
    "5.\tAllow the samples to sit and dry for 30 minutes. \n",
    "6.\tDetermine the mass of each sample.\n",
    "\n",
    "The students’ data are recorded in the table below.\n",
    "\n",
    "Sample\t    Starting Mass (g)\tEnding Mass (g)\tDifference in Mass (g)\n",
    "Marble\t           9.8\t         9.4\t         –0.4\n",
    "Limestone\t      10.4\t         9.1\t         –1.3\n",
    "Wood\t          11.2\t        11.2\t          0.0\n",
    "Plastic\t           7.2\t         7.1 \t         –0.1\n",
    "\n",
    "After reading the group’s procedure, describe what additional information you would need in order to replicate the experiment. Make sure to include at least three pieces of information.\n",
    "\n"
   ]
  },
  {
   "cell_type": "markdown",
   "metadata": {},
   "source": [
    "### Answer key for question prompt - answer set1\n",
    "###### A good response must include atleast three of the following additional information \n",
    "how much vinegar was used in each container\n",
    "<br>what type of vinegar was used in each container\n",
    "<br>what materials to test\n",
    "<br>what size surface area of materials should be used\n",
    "<br>how long each sample was rinsed in distilled water\n",
    "<br>what drying method to use\n",
    "<br>what size type of container to use\n",
    "\n"
   ]
  },
  {
   "cell_type": "code",
   "execution_count": 73,
   "metadata": {},
   "outputs": [
    {
     "data": {
      "text/plain": [
       "'After reading the expirement, I realized that the additional information you need to replicate the expireiment is one, the amant of vinegar you poured in each container, two, label the containers before you start yar expirement and three, write a conclusion to make sure yar results are accurate.'"
      ]
     },
     "execution_count": 73,
     "metadata": {},
     "output_type": "execute_result"
    }
   ],
   "source": [
    "training_examples['student_response'][1] #sample student response "
   ]
  },
  {
   "cell_type": "code",
   "execution_count": 74,
   "metadata": {},
   "outputs": [],
   "source": [
    "# only answer_set 1, 5, 6 are used for analysis and model creation\n",
    "training_examples=training_examples.loc[(training_examples['answer_set'].isin([1,5,6]))]"
   ]
  },
  {
   "cell_type": "code",
   "execution_count": 75,
   "metadata": {},
   "outputs": [
    {
     "data": {
      "text/html": [
       "<div>\n",
       "<style scoped>\n",
       "    .dataframe tbody tr th:only-of-type {\n",
       "        vertical-align: middle;\n",
       "    }\n",
       "\n",
       "    .dataframe tbody tr th {\n",
       "        vertical-align: top;\n",
       "    }\n",
       "\n",
       "    .dataframe thead th {\n",
       "        text-align: right;\n",
       "    }\n",
       "</style>\n",
       "<table border=\"1\" class=\"dataframe\">\n",
       "  <thead>\n",
       "    <tr style=\"text-align: right;\">\n",
       "      <th></th>\n",
       "      <th>Id</th>\n",
       "      <th>answer_set</th>\n",
       "      <th>score1</th>\n",
       "      <th>score2</th>\n",
       "      <th>student_response</th>\n",
       "    </tr>\n",
       "  </thead>\n",
       "  <tbody>\n",
       "    <tr>\n",
       "      <th>8734</th>\n",
       "      <td>14483</td>\n",
       "      <td>6</td>\n",
       "      <td>0</td>\n",
       "      <td>0</td>\n",
       "      <td>The to enter the cell you have to use ATP energy.</td>\n",
       "    </tr>\n",
       "  </tbody>\n",
       "</table>\n",
       "</div>"
      ],
      "text/plain": [
       "         Id  answer_set  score1  score2  \\\n",
       "8734  14483           6       0       0   \n",
       "\n",
       "                                       student_response  \n",
       "8734  The to enter the cell you have to use ATP energy.  "
      ]
     },
     "execution_count": 75,
     "metadata": {},
     "output_type": "execute_result"
    }
   ],
   "source": [
    "training_examples.sort_values(['score1','score2'],ascending=[False,False]).sample(1)"
   ]
  },
  {
   "cell_type": "code",
   "execution_count": 76,
   "metadata": {},
   "outputs": [],
   "source": [
    "ss1=\"\"\"Three processes used by cells to control the movement of substances across the cell membrane are: diffusion, osmosis, and active transport.  Diffusion is when substances are moved from areas of a higher concentration to areas of a lower concentration. Osmosis is the movement of water through a selectively permeable membrane.  The water moves from a high concentration to a low concentration.  Active transport is the opposite of diffusion.  In active transport substances move from areas of a low concentration to areas of a high concentration.\"\"\"\n",
    "#ss1=\"My name is Samyuktha\"\n",
    "ss2=\"\"\"Selective permeability is used by the cell membrane to allow certain substances to move across\n",
    "Passive transport occurs when substances move from an area of higher concentration to an area of lower concentration\n",
    "Osmosis is the diffusion of water across the cell membrane\n",
    "Facilitated diffusion occurs when the membrane controls the pathway for a particle to enter or leave a cell\n",
    "Active transport occurs when a cell uses energy to move a substance across the cell membrane, and/or a substance moves from an area of low to high concentration, or against the concentration gradient\n",
    "Pumps are used to move charged particles like sodium and potassium ions through membranes using energy and carrier proteins\n",
    "Membrane-assisted transport occurs when the membrane of the vesicle fuses with the cell membrane forcing large molecules out of the cell as in exocytosis\n",
    "Membrane-assisted transport occurs when molecules are engulfed by the cell membrane as in \n",
    "Membrane-assisted transport occurs when vesicles are formed around large molecules as in \n",
    "Membrane-assisted transport occurs when vesicles are formed around liquid droplets as in \n",
    "Protein channels or channel proteins allow for the movement of specific molecules or substances into or out of the cell\"\"\"\n",
    "\n",
    "#ss1=\"I like chocolate\"\n",
    "#ss2=\"select required columns and rows\""
   ]
  },
  {
   "cell_type": "markdown",
   "metadata": {},
   "source": [
    "### Count Vectorizer method"
   ]
  },
  {
   "cell_type": "markdown",
   "metadata": {},
   "source": [
    "CountVectorizer and TfidfVectorizer in scikit-learn detect word boundary and remove punctuations automatically"
   ]
  },
  {
   "cell_type": "code",
   "execution_count": 99,
   "metadata": {},
   "outputs": [],
   "source": [
    "def cosine_distance_countvectorizer_method(s1, s2):\n",
    "        \n",
    "    # sentences to list\n",
    "    allsentences = [s1 , s2]\n",
    "    \n",
    "    # packages\n",
    "    from sklearn.feature_extraction.text import CountVectorizer\n",
    "    from scipy.spatial import distance\n",
    "    \n",
    "    # text to vector\n",
    "    vectorizer = CountVectorizer(stop_words='english')\n",
    "    all_sentences_to_vector = vectorizer.fit_transform(allsentences)\n",
    "    text_to_vector_v1 = all_sentences_to_vector.toarray()[0].tolist()\n",
    "    text_to_vector_v2 = all_sentences_to_vector.toarray()[1].tolist()\n",
    "    \n",
    "    # distance of similarity\n",
    "    cosine = distance.cosine(text_to_vector_v1, text_to_vector_v2)\n",
    "    #print('Similarity of two sentences are equal to ',round((1-cosine)*100,2),'%')\n",
    "    return round((1-cosine)*100,2)"
   ]
  },
  {
   "cell_type": "code",
   "execution_count": 100,
   "metadata": {},
   "outputs": [
    {
     "data": {
      "text/plain": [
       "45.85"
      ]
     },
     "execution_count": 100,
     "metadata": {},
     "output_type": "execute_result"
    }
   ],
   "source": [
    "cosine_distance_countvectorizer_method(ss1 , ss2)"
   ]
  },
  {
   "cell_type": "markdown",
   "metadata": {},
   "source": [
    "### Glove Embedding "
   ]
  },
  {
   "cell_type": "markdown",
   "metadata": {},
   "source": [
    "#### “GloVe is an unsupervised learning algorithm for obtaining vector representations for words.” (Jeffrey Pennington, Richard Socher, and Christopher D. Manning. 2014. Global Vectors for Word Representation)\n",
    "The GloVe algorithm takes a large text corpus as input and produces multidimensional vectors for every word found in the corpus. The goal of the algorithm is to produce similar vectors for words that are semantically related. The vectors output by this algorithm are also called GloVe vectors or GloVe word embeddings."
   ]
  },
  {
   "cell_type": "code",
   "execution_count": 79,
   "metadata": {},
   "outputs": [],
   "source": [
    "gloveFile=\"C:/Users/superuser/Desktop/ResearchProject/Data/glove.6B.50d.txt\"\n",
    "import numpy as np\n",
    "def loadGloveModel(gloveFile):\n",
    "    print (\"Loading Glove Model\")\n",
    "    with open(gloveFile, encoding=\"utf8\" ) as f:\n",
    "        content = f.readlines()\n",
    "    model = {}\n",
    "    for line in content:\n",
    "        splitLine = line.split()\n",
    "        word = splitLine[0]\n",
    "        embedding = np.array([float(val) for val in splitLine[1:]])\n",
    "        model[word] = embedding\n",
    "    print (\"Done.\",len(model),\" words loaded!\")\n",
    "    return model\n",
    "\n",
    "import re\n",
    "from nltk.corpus import stopwords\n",
    "import pandas as pd\n",
    "\n",
    "def preprocess(raw_text):\n",
    "\n",
    "    # keep only words\n",
    "    letters_only_text = re.sub(\"[^a-zA-Z]\", \" \", raw_text)\n",
    "\n",
    "    # convert to lower case and split \n",
    "    words = letters_only_text.lower().split()\n",
    "\n",
    "    # remove stopwords\n",
    "    stopword_set = set(stopwords.words(\"english\"))\n",
    "    cleaned_words = list(set([w for w in words if w not in stopword_set]))\n",
    "\n",
    "    return cleaned_words\n",
    "\n",
    "def cosine_distance_between_two_words(word1, word2):\n",
    "    import scipy\n",
    "    return (1- scipy.spatial.distance.cosine(model[word1], model[word2]))\n",
    "\n",
    "def calculate_heat_matrix_for_two_sentences(s1,s2):\n",
    "    s1 = preprocess(s1)\n",
    "    s2 = preprocess(s2)\n",
    "    result_list = [[cosine_distance_between_two_words(word1, word2) for word2 in s2] for word1 in s1]\n",
    "    result_df = pd.DataFrame(result_list)\n",
    "    result_df.columns = s2\n",
    "    result_df.index = s1\n",
    "    return result_df\n",
    "\n",
    "def cosine_distance_wordembedding_method(s1, s2):\n",
    "    import scipy\n",
    "    vector_1 = np.mean([model[word] for word in preprocess(s1)],axis=0)\n",
    "    vector_2 = np.mean([model[word] for word in preprocess(s2)],axis=0)\n",
    "    cosine = scipy.spatial.distance.cosine(vector_1, vector_2)\n",
    "    print('Word Embedding method with a cosine distance asses that our two sentences are similar to',round((1-cosine)*100,2),'%')\n",
    "\n",
    "def heat_map_matrix_between_two_sentences(s1,s2):\n",
    "    df = calculate_heat_matrix_for_two_sentences(s1,s2)\n",
    "    import seaborn as sns\n",
    "    import matplotlib.pyplot as plt\n",
    "    fig, ax = plt.subplots(figsize=(5,5)) \n",
    "    ax_blue = sns.heatmap(df, cmap=\"YlGnBu\")\n",
    "    # ax_red = sns.heatmap(df)\n",
    "    print(cosine_distance_wordembedding_method(s1, s2))\n",
    "    return ax_blue"
   ]
  },
  {
   "cell_type": "code",
   "execution_count": 80,
   "metadata": {},
   "outputs": [
    {
     "name": "stdout",
     "output_type": "stream",
     "text": [
      "Loading Glove Model\n",
      "Done. 400000  words loaded!\n"
     ]
    }
   ],
   "source": [
    "model = loadGloveModel(gloveFile)"
   ]
  },
  {
   "cell_type": "code",
   "execution_count": 81,
   "metadata": {},
   "outputs": [
    {
     "name": "stdout",
     "output_type": "stream",
     "text": [
      "Word Embedding method with a cosine distance asses that our two sentences are similar to 95.64 %\n",
      "None\n"
     ]
    },
    {
     "data": {
      "text/plain": [
       "<matplotlib.axes._subplots.AxesSubplot at 0x25ed24447f0>"
      ]
     },
     "execution_count": 81,
     "metadata": {},
     "output_type": "execute_result"
    },
    {
     "data": {
      "image/png": "[encoded data removed]",
      "text/plain": [
       "<Figure size 360x360 with 2 Axes>"
      ]
     },
     "metadata": {
      "needs_background": "light"
     },
     "output_type": "display_data"
    }
   ],
   "source": [
    "heat_map_matrix_between_two_sentences(ss1,ss2)"
   ]
  },
  {
   "cell_type": "markdown",
   "metadata": {},
   "source": [
    "Cohen’s kappa: a statistic that measures degree of agreement among raters. "
   ]
  },
  {
   "cell_type": "code",
   "execution_count": 82,
   "metadata": {},
   "outputs": [
    {
     "data": {
      "text/plain": [
       "0.9000011436814797"
      ]
     },
     "execution_count": 82,
     "metadata": {},
     "output_type": "execute_result"
    }
   ],
   "source": [
    "from sklearn.metrics import cohen_kappa_score\n",
    "cohen_kappa_score(training_examples['score1'], training_examples['score2'])"
   ]
  },
  {
   "cell_type": "markdown",
   "metadata": {},
   "source": [
    "### Adding question and answer key "
   ]
  },
  {
   "cell_type": "code",
   "execution_count": 83,
   "metadata": {},
   "outputs": [],
   "source": [
    "question_one  = \"\"\"A group of students wrote the following procedure for their investigation.\n",
    "Procedure:\n",
    "1.\tDetermine the mass of four different samples.\n",
    "2.\tPour vinegar in each of four separate, but identical, containers.\n",
    "3.\tPlace a sample of one material into one container and label. Repeat with remaining samples, placing a single sample into a single container.\n",
    "4.\tAfter 24 hours, remove the samples from the containers and rinse each sample with distilled water.\n",
    "5.\tAllow the samples to sit and dry for 30 minutes. \n",
    "6.\tDetermine the mass of each sample.\n",
    "After reading the group’s procedure, describe what additional information you would need in order to replicate the experiment. Make sure to include at least three pieces of information.\n",
    "\"\"\"\n",
    "question_five = \"\"\"Starting with mRNA leaving the nucleus list and describe four major steps involved in protein synthesis.\"\"\"\n",
    "question_six  = \"\"\"List and describe three processes used by cells to control the movement of substances across the cell membrane\"\"\""
   ]
  },
  {
   "cell_type": "code",
   "execution_count": 84,
   "metadata": {},
   "outputs": [],
   "source": [
    "training_examples.at[training_examples['answer_set']==1, 'question_key'] = question_one\n",
    "training_examples.at[training_examples['answer_set']==5, 'question_key'] = question_five\n",
    "training_examples.at[training_examples['answer_set']==6, 'question_key'] = question_six"
   ]
  },
  {
   "cell_type": "code",
   "execution_count": 85,
   "metadata": {},
   "outputs": [],
   "source": [
    "key_one=\"\"\"how much vinegar was used in each container\n",
    "what type of vinegar was used in each container\n",
    "what materials to test\n",
    "what size surface area of materials should be used\n",
    "how long each sample was rinsed in distilled water\n",
    "what drying method to use\n",
    "what size type of container to use\n",
    "\"\"\"\n",
    "\n",
    "key_five=\"\"\"mRNA exits nucleus via nuclear pore\n",
    "mRNA travels through the cytoplasm to the ribosome or enters the rough endoplasmic reticulum\n",
    "mRNA bases are read in triplets called codons by rRNA\n",
    "tRNA carrying the complementary U=A C+G anticodon recognizes the complementary codon of the mRNA\n",
    "The corresponding amino acids on the other end of the tRNA are bonded to adjacent tRNA’s amino acids\n",
    "A new corresponding amino acid is added to the tRNA\n",
    "Amino acids are linked together to make a protein beginning with a START codon in the P site initiation\n",
    "Amino acids continue to be linked until a STOP codon is read on the mRNA in the A site elongation and termination\n",
    "\"\"\"\n",
    "\n",
    "key_six=\"\"\"Selective permeability is used by the cell membrane to allow certain substances to move across\n",
    "Passive transport occurs when substances move from an area of higher concentration to an area of lower concentration\n",
    "Osmosis is the diffusion of water across the cell membrane\n",
    "Facilitated diffusion occurs when the membrane controls the pathway for a particle to enter or leave a cell\n",
    "Active transport occurs when a cell uses energy to move a substance across the cell membrane, and/or a substance moves from an area of low to high concentration, or against the concentration gradient\n",
    "Pumps are used to move charged particles like sodium and potassium ions through membranes using energy and carrier proteins\n",
    "Membrane-assisted transport occurs when the membrane of the vesicle fuses with the cell membrane forcing large molecules out of the cell as in exocytosis\n",
    "Membrane-assisted transport occurs when molecules are engulfed by the cell membrane as in endocytosis\n",
    "Membrane-assisted transport occurs when vesicles are formed around large molecules as in phagocytosis\n",
    "Membrane-assisted transport occurs when vesicles are formed around liquid droplets as in pinocytosis\n",
    "Protein channels or channel proteins allow for the movement of specific molecules or substances into or out of the cell\n",
    "\"\"\""
   ]
  },
  {
   "cell_type": "code",
   "execution_count": 86,
   "metadata": {},
   "outputs": [],
   "source": [
    "training_examples.at[training_examples['answer_set']==1, 'answer_key'] = key_one\n",
    "training_examples.at[training_examples['answer_set']==5, 'answer_key'] = key_five\n",
    "training_examples.at[training_examples['answer_set']==6, 'answer_key'] = key_six"
   ]
  },
  {
   "cell_type": "code",
   "execution_count": 87,
   "metadata": {},
   "outputs": [
    {
     "data": {
      "text/plain": [
       "Id                   int64\n",
       "answer_set           int64\n",
       "score1               int64\n",
       "score2               int64\n",
       "student_response    object\n",
       "question_key        object\n",
       "answer_key          object\n",
       "dtype: object"
      ]
     },
     "execution_count": 87,
     "metadata": {},
     "output_type": "execute_result"
    }
   ],
   "source": [
    "training_examples.dtypes"
   ]
  },
  {
   "cell_type": "code",
   "execution_count": 88,
   "metadata": {},
   "outputs": [
    {
     "data": {
      "text/html": [
       "<div>\n",
       "<style scoped>\n",
       "    .dataframe tbody tr th:only-of-type {\n",
       "        vertical-align: middle;\n",
       "    }\n",
       "\n",
       "    .dataframe tbody tr th {\n",
       "        vertical-align: top;\n",
       "    }\n",
       "\n",
       "    .dataframe thead th {\n",
       "        text-align: right;\n",
       "    }\n",
       "</style>\n",
       "<table border=\"1\" class=\"dataframe\">\n",
       "  <thead>\n",
       "    <tr style=\"text-align: right;\">\n",
       "      <th></th>\n",
       "      <th>Id</th>\n",
       "      <th>answer_set</th>\n",
       "      <th>score1</th>\n",
       "      <th>score2</th>\n",
       "      <th>student_response</th>\n",
       "      <th>question_key</th>\n",
       "      <th>answer_key</th>\n",
       "      <th>sim</th>\n",
       "    </tr>\n",
       "  </thead>\n",
       "  <tbody>\n",
       "    <tr>\n",
       "      <th>7552</th>\n",
       "      <td>12104</td>\n",
       "      <td>5</td>\n",
       "      <td>0</td>\n",
       "      <td>0</td>\n",
       "      <td>sun light, water, oxogen, cells</td>\n",
       "      <td>Starting with mRNA leaving the nucleus list an...</td>\n",
       "      <td>mRNA exits nucleus via nuclear pore\\nmRNA trav...</td>\n",
       "      <td></td>\n",
       "    </tr>\n",
       "  </tbody>\n",
       "</table>\n",
       "</div>"
      ],
      "text/plain": [
       "         Id  answer_set  score1  score2                 student_response  \\\n",
       "7552  12104           5       0       0  sun light, water, oxogen, cells   \n",
       "\n",
       "                                           question_key  \\\n",
       "7552  Starting with mRNA leaving the nucleus list an...   \n",
       "\n",
       "                                             answer_key sim  \n",
       "7552  mRNA exits nucleus via nuclear pore\\nmRNA trav...      "
      ]
     },
     "execution_count": 88,
     "metadata": {},
     "output_type": "execute_result"
    }
   ],
   "source": [
    "training_examples['sim']=''\n",
    "training_examples.sample(1)"
   ]
  },
  {
   "cell_type": "code",
   "execution_count": 101,
   "metadata": {},
   "outputs": [],
   "source": [
    "def cosine_distance_countvectorizer_method(s1, s2):\n",
    "        \n",
    "    # sentences to list\n",
    "    allsentences = [s1 , s2]\n",
    "    \n",
    "    # packages\n",
    "    from sklearn.feature_extraction.text import CountVectorizer\n",
    "    from scipy.spatial import distance\n",
    "    \n",
    "    # text to vector\n",
    "    vectorizer = CountVectorizer(stop_words='english')\n",
    "    all_sentences_to_vector = vectorizer.fit_transform(allsentences)\n",
    "    text_to_vector_v1 = all_sentences_to_vector.toarray()[0].tolist()\n",
    "    text_to_vector_v2 = all_sentences_to_vector.toarray()[1].tolist()\n",
    "    \n",
    "    # distance of similarity\n",
    "    cosine = distance.cosine(text_to_vector_v1, text_to_vector_v2)\n",
    "    return round((1-cosine)*100,2)"
   ]
  },
  {
   "cell_type": "code",
   "execution_count": 106,
   "metadata": {},
   "outputs": [],
   "source": [
    "import warnings\n",
    "warnings.filterwarnings(\"ignore\", category=RuntimeWarning) \n",
    "training_examples['similarity'] = training_examples.apply(lambda row : cosine_distance_countvectorizer_method(row['student_response'], row['answer_key']), axis = 1)"
   ]
  },
  {
   "cell_type": "code",
   "execution_count": 107,
   "metadata": {},
   "outputs": [
    {
     "data": {
      "text/html": [
       "<div>\n",
       "<style scoped>\n",
       "    .dataframe tbody tr th:only-of-type {\n",
       "        vertical-align: middle;\n",
       "    }\n",
       "\n",
       "    .dataframe tbody tr th {\n",
       "        vertical-align: top;\n",
       "    }\n",
       "\n",
       "    .dataframe thead th {\n",
       "        text-align: right;\n",
       "    }\n",
       "</style>\n",
       "<table border=\"1\" class=\"dataframe\">\n",
       "  <thead>\n",
       "    <tr style=\"text-align: right;\">\n",
       "      <th></th>\n",
       "      <th>Id</th>\n",
       "      <th>answer_set</th>\n",
       "      <th>score1</th>\n",
       "      <th>score2</th>\n",
       "      <th>student_response</th>\n",
       "      <th>question_key</th>\n",
       "      <th>answer_key</th>\n",
       "      <th>sim</th>\n",
       "      <th>similarity</th>\n",
       "    </tr>\n",
       "  </thead>\n",
       "  <tbody>\n",
       "    <tr>\n",
       "      <th>8043</th>\n",
       "      <td>12595</td>\n",
       "      <td>5</td>\n",
       "      <td>1</td>\n",
       "      <td>0</td>\n",
       "      <td>A ezyme inters the mRna sequence and goes thro...</td>\n",
       "      <td>Starting with mRNA leaving the nucleus list an...</td>\n",
       "      <td>mRNA exits nucleus via nuclear pore\\nmRNA trav...</td>\n",
       "      <td></td>\n",
       "      <td>20.34</td>\n",
       "    </tr>\n",
       "    <tr>\n",
       "      <th>1629</th>\n",
       "      <td>1630</td>\n",
       "      <td>1</td>\n",
       "      <td>3</td>\n",
       "      <td>3</td>\n",
       "      <td>To replicate this experiment one would have to...</td>\n",
       "      <td>A group of students wrote the following proced...</td>\n",
       "      <td>how much vinegar was used in each container\\nw...</td>\n",
       "      <td></td>\n",
       "      <td>23.41</td>\n",
       "    </tr>\n",
       "    <tr>\n",
       "      <th>9551</th>\n",
       "      <td>15300</td>\n",
       "      <td>6</td>\n",
       "      <td>1</td>\n",
       "      <td>1</td>\n",
       "      <td>PASSIVE: passive movement is where an organism...</td>\n",
       "      <td>List and describe three processes used by cell...</td>\n",
       "      <td>Selective permeability is used by the cell mem...</td>\n",
       "      <td></td>\n",
       "      <td>40.65</td>\n",
       "    </tr>\n",
       "    <tr>\n",
       "      <th>7563</th>\n",
       "      <td>12115</td>\n",
       "      <td>5</td>\n",
       "      <td>2</td>\n",
       "      <td>2</td>\n",
       "      <td>tRNA then attaches to the mRNA, matching its b...</td>\n",
       "      <td>Starting with mRNA leaving the nucleus list an...</td>\n",
       "      <td>mRNA exits nucleus via nuclear pore\\nmRNA trav...</td>\n",
       "      <td></td>\n",
       "      <td>62.80</td>\n",
       "    </tr>\n",
       "    <tr>\n",
       "      <th>526</th>\n",
       "      <td>527</td>\n",
       "      <td>1</td>\n",
       "      <td>3</td>\n",
       "      <td>3</td>\n",
       "      <td>In order to replicate this group's experiment,...</td>\n",
       "      <td>A group of students wrote the following proced...</td>\n",
       "      <td>how much vinegar was used in each container\\nw...</td>\n",
       "      <td></td>\n",
       "      <td>10.21</td>\n",
       "    </tr>\n",
       "    <tr>\n",
       "      <th>620</th>\n",
       "      <td>621</td>\n",
       "      <td>1</td>\n",
       "      <td>0</td>\n",
       "      <td>0</td>\n",
       "      <td>In order to replicate this experiment, you wou...</td>\n",
       "      <td>A group of students wrote the following proced...</td>\n",
       "      <td>how much vinegar was used in each container\\nw...</td>\n",
       "      <td></td>\n",
       "      <td>0.00</td>\n",
       "    </tr>\n",
       "    <tr>\n",
       "      <th>233</th>\n",
       "      <td>234</td>\n",
       "      <td>1</td>\n",
       "      <td>1</td>\n",
       "      <td>1</td>\n",
       "      <td>The information I would need in order to repli...</td>\n",
       "      <td>A group of students wrote the following proced...</td>\n",
       "      <td>how much vinegar was used in each container\\nw...</td>\n",
       "      <td></td>\n",
       "      <td>9.90</td>\n",
       "    </tr>\n",
       "    <tr>\n",
       "      <th>7611</th>\n",
       "      <td>12163</td>\n",
       "      <td>5</td>\n",
       "      <td>0</td>\n",
       "      <td>0</td>\n",
       "      <td>With protein synthesis, first the mRNA leaves ...</td>\n",
       "      <td>Starting with mRNA leaving the nucleus list an...</td>\n",
       "      <td>mRNA exits nucleus via nuclear pore\\nmRNA trav...</td>\n",
       "      <td></td>\n",
       "      <td>36.76</td>\n",
       "    </tr>\n",
       "    <tr>\n",
       "      <th>9804</th>\n",
       "      <td>15553</td>\n",
       "      <td>6</td>\n",
       "      <td>0</td>\n",
       "      <td>0</td>\n",
       "      <td>The cell uses osmosis to even out the concentr...</td>\n",
       "      <td>List and describe three processes used by cell...</td>\n",
       "      <td>Selective permeability is used by the cell mem...</td>\n",
       "      <td></td>\n",
       "      <td>48.00</td>\n",
       "    </tr>\n",
       "    <tr>\n",
       "      <th>6817</th>\n",
       "      <td>11369</td>\n",
       "      <td>5</td>\n",
       "      <td>0</td>\n",
       "      <td>0</td>\n",
       "      <td>RNA stand for ribo nucleicacid.DNA stand for d...</td>\n",
       "      <td>Starting with mRNA leaving the nucleus list an...</td>\n",
       "      <td>mRNA exits nucleus via nuclear pore\\nmRNA trav...</td>\n",
       "      <td></td>\n",
       "      <td>0.00</td>\n",
       "    </tr>\n",
       "    <tr>\n",
       "      <th>515</th>\n",
       "      <td>516</td>\n",
       "      <td>1</td>\n",
       "      <td>3</td>\n",
       "      <td>3</td>\n",
       "      <td>In order to replicate the experiment, you woul...</td>\n",
       "      <td>A group of students wrote the following proced...</td>\n",
       "      <td>how much vinegar was used in each container\\nw...</td>\n",
       "      <td></td>\n",
       "      <td>3.89</td>\n",
       "    </tr>\n",
       "    <tr>\n",
       "      <th>182</th>\n",
       "      <td>183</td>\n",
       "      <td>1</td>\n",
       "      <td>2</td>\n",
       "      <td>2</td>\n",
       "      <td>-In step 1, we need to know what samples. It s...</td>\n",
       "      <td>A group of students wrote the following proced...</td>\n",
       "      <td>how much vinegar was used in each container\\nw...</td>\n",
       "      <td></td>\n",
       "      <td>8.33</td>\n",
       "    </tr>\n",
       "    <tr>\n",
       "      <th>8843</th>\n",
       "      <td>14592</td>\n",
       "      <td>6</td>\n",
       "      <td>0</td>\n",
       "      <td>0</td>\n",
       "      <td>SEPARATE  PASSAGESCERTAIN JOBS</td>\n",
       "      <td>List and describe three processes used by cell...</td>\n",
       "      <td>Selective permeability is used by the cell mem...</td>\n",
       "      <td></td>\n",
       "      <td>0.00</td>\n",
       "    </tr>\n",
       "    <tr>\n",
       "      <th>8704</th>\n",
       "      <td>14453</td>\n",
       "      <td>6</td>\n",
       "      <td>0</td>\n",
       "      <td>0</td>\n",
       "      <td>Transcription-is when the mRNA turns into amin...</td>\n",
       "      <td>List and describe three processes used by cell...</td>\n",
       "      <td>Selective permeability is used by the cell mem...</td>\n",
       "      <td></td>\n",
       "      <td>16.12</td>\n",
       "    </tr>\n",
       "    <tr>\n",
       "      <th>125</th>\n",
       "      <td>126</td>\n",
       "      <td>1</td>\n",
       "      <td>3</td>\n",
       "      <td>3</td>\n",
       "      <td>First you would need to know what the samples ...</td>\n",
       "      <td>A group of students wrote the following proced...</td>\n",
       "      <td>how much vinegar was used in each container\\nw...</td>\n",
       "      <td></td>\n",
       "      <td>19.44</td>\n",
       "    </tr>\n",
       "    <tr>\n",
       "      <th>967</th>\n",
       "      <td>968</td>\n",
       "      <td>1</td>\n",
       "      <td>2</td>\n",
       "      <td>2</td>\n",
       "      <td>There are several pieces of additional informa...</td>\n",
       "      <td>A group of students wrote the following proced...</td>\n",
       "      <td>how much vinegar was used in each container\\nw...</td>\n",
       "      <td></td>\n",
       "      <td>11.32</td>\n",
       "    </tr>\n",
       "    <tr>\n",
       "      <th>332</th>\n",
       "      <td>333</td>\n",
       "      <td>1</td>\n",
       "      <td>0</td>\n",
       "      <td>0</td>\n",
       "      <td>More information is needed, more steps because...</td>\n",
       "      <td>A group of students wrote the following proced...</td>\n",
       "      <td>how much vinegar was used in each container\\nw...</td>\n",
       "      <td></td>\n",
       "      <td>10.91</td>\n",
       "    </tr>\n",
       "    <tr>\n",
       "      <th>7780</th>\n",
       "      <td>12332</td>\n",
       "      <td>5</td>\n",
       "      <td>0</td>\n",
       "      <td>0</td>\n",
       "      <td>It conjoines with another DNA and starts the p...</td>\n",
       "      <td>Starting with mRNA leaving the nucleus list an...</td>\n",
       "      <td>mRNA exits nucleus via nuclear pore\\nmRNA trav...</td>\n",
       "      <td></td>\n",
       "      <td>2.77</td>\n",
       "    </tr>\n",
       "    <tr>\n",
       "      <th>8769</th>\n",
       "      <td>14518</td>\n",
       "      <td>6</td>\n",
       "      <td>0</td>\n",
       "      <td>0</td>\n",
       "      <td>The processes cells use is translation, transc...</td>\n",
       "      <td>List and describe three processes used by cell...</td>\n",
       "      <td>Selective permeability is used by the cell mem...</td>\n",
       "      <td></td>\n",
       "      <td>33.14</td>\n",
       "    </tr>\n",
       "    <tr>\n",
       "      <th>9480</th>\n",
       "      <td>15229</td>\n",
       "      <td>6</td>\n",
       "      <td>0</td>\n",
       "      <td>0</td>\n",
       "      <td>cells use severa;l diffrent processes some exa...</td>\n",
       "      <td>List and describe three processes used by cell...</td>\n",
       "      <td>Selective permeability is used by the cell mem...</td>\n",
       "      <td></td>\n",
       "      <td>22.80</td>\n",
       "    </tr>\n",
       "  </tbody>\n",
       "</table>\n",
       "</div>"
      ],
      "text/plain": [
       "         Id  answer_set  score1  score2  \\\n",
       "8043  12595           5       1       0   \n",
       "1629   1630           1       3       3   \n",
       "9551  15300           6       1       1   \n",
       "7563  12115           5       2       2   \n",
       "526     527           1       3       3   \n",
       "620     621           1       0       0   \n",
       "233     234           1       1       1   \n",
       "7611  12163           5       0       0   \n",
       "9804  15553           6       0       0   \n",
       "6817  11369           5       0       0   \n",
       "515     516           1       3       3   \n",
       "182     183           1       2       2   \n",
       "8843  14592           6       0       0   \n",
       "8704  14453           6       0       0   \n",
       "125     126           1       3       3   \n",
       "967     968           1       2       2   \n",
       "332     333           1       0       0   \n",
       "7780  12332           5       0       0   \n",
       "8769  14518           6       0       0   \n",
       "9480  15229           6       0       0   \n",
       "\n",
       "                                       student_response  \\\n",
       "8043  A ezyme inters the mRna sequence and goes thro...   \n",
       "1629  To replicate this experiment one would have to...   \n",
       "9551  PASSIVE: passive movement is where an organism...   \n",
       "7563  tRNA then attaches to the mRNA, matching its b...   \n",
       "526   In order to replicate this group's experiment,...   \n",
       "620   In order to replicate this experiment, you wou...   \n",
       "233   The information I would need in order to repli...   \n",
       "7611  With protein synthesis, first the mRNA leaves ...   \n",
       "9804  The cell uses osmosis to even out the concentr...   \n",
       "6817  RNA stand for ribo nucleicacid.DNA stand for d...   \n",
       "515   In order to replicate the experiment, you woul...   \n",
       "182   -In step 1, we need to know what samples. It s...   \n",
       "8843                     SEPARATE  PASSAGESCERTAIN JOBS   \n",
       "8704  Transcription-is when the mRNA turns into amin...   \n",
       "125   First you would need to know what the samples ...   \n",
       "967   There are several pieces of additional informa...   \n",
       "332   More information is needed, more steps because...   \n",
       "7780  It conjoines with another DNA and starts the p...   \n",
       "8769  The processes cells use is translation, transc...   \n",
       "9480  cells use severa;l diffrent processes some exa...   \n",
       "\n",
       "                                           question_key  \\\n",
       "8043  Starting with mRNA leaving the nucleus list an...   \n",
       "1629  A group of students wrote the following proced...   \n",
       "9551  List and describe three processes used by cell...   \n",
       "7563  Starting with mRNA leaving the nucleus list an...   \n",
       "526   A group of students wrote the following proced...   \n",
       "620   A group of students wrote the following proced...   \n",
       "233   A group of students wrote the following proced...   \n",
       "7611  Starting with mRNA leaving the nucleus list an...   \n",
       "9804  List and describe three processes used by cell...   \n",
       "6817  Starting with mRNA leaving the nucleus list an...   \n",
       "515   A group of students wrote the following proced...   \n",
       "182   A group of students wrote the following proced...   \n",
       "8843  List and describe three processes used by cell...   \n",
       "8704  List and describe three processes used by cell...   \n",
       "125   A group of students wrote the following proced...   \n",
       "967   A group of students wrote the following proced...   \n",
       "332   A group of students wrote the following proced...   \n",
       "7780  Starting with mRNA leaving the nucleus list an...   \n",
       "8769  List and describe three processes used by cell...   \n",
       "9480  List and describe three processes used by cell...   \n",
       "\n",
       "                                             answer_key sim  similarity  \n",
       "8043  mRNA exits nucleus via nuclear pore\\nmRNA trav...           20.34  \n",
       "1629  how much vinegar was used in each container\\nw...           23.41  \n",
       "9551  Selective permeability is used by the cell mem...           40.65  \n",
       "7563  mRNA exits nucleus via nuclear pore\\nmRNA trav...           62.80  \n",
       "526   how much vinegar was used in each container\\nw...           10.21  \n",
       "620   how much vinegar was used in each container\\nw...            0.00  \n",
       "233   how much vinegar was used in each container\\nw...            9.90  \n",
       "7611  mRNA exits nucleus via nuclear pore\\nmRNA trav...           36.76  \n",
       "9804  Selective permeability is used by the cell mem...           48.00  \n",
       "6817  mRNA exits nucleus via nuclear pore\\nmRNA trav...            0.00  \n",
       "515   how much vinegar was used in each container\\nw...            3.89  \n",
       "182   how much vinegar was used in each container\\nw...            8.33  \n",
       "8843  Selective permeability is used by the cell mem...            0.00  \n",
       "8704  Selective permeability is used by the cell mem...           16.12  \n",
       "125   how much vinegar was used in each container\\nw...           19.44  \n",
       "967   how much vinegar was used in each container\\nw...           11.32  \n",
       "332   how much vinegar was used in each container\\nw...           10.91  \n",
       "7780  mRNA exits nucleus via nuclear pore\\nmRNA trav...            2.77  \n",
       "8769  Selective permeability is used by the cell mem...           33.14  \n",
       "9480  Selective permeability is used by the cell mem...           22.80  "
      ]
     },
     "execution_count": 107,
     "metadata": {},
     "output_type": "execute_result"
    }
   ],
   "source": [
    "training_examples.sample(20)"
   ]
  },
  {
   "cell_type": "code",
   "execution_count": 95,
   "metadata": {},
   "outputs": [],
   "source": [
    "test_set.at[test_set['answer_set']==1, 'question_key'] = question_one\n",
    "test_set.at[test_set['answer_set']==5, 'question_key'] = question_five\n",
    "test_set.at[test_set['answer_set']==6, 'question_key'] = question_six"
   ]
  },
  {
   "cell_type": "code",
   "execution_count": 42,
   "metadata": {},
   "outputs": [],
   "source": [
    "test_set.at[test_set['answer_set']==1, 'answer_key'] = key_one\n",
    "test_set.at[test_set['answer_set']==5, 'answer_key'] = key_five\n",
    "test_set.at[test_set['answer_set']==6, 'answer_key'] = key_six"
   ]
  },
  {
   "cell_type": "code",
   "execution_count": 43,
   "metadata": {},
   "outputs": [
    {
     "data": {
      "text/html": [
       "<div>\n",
       "<style scoped>\n",
       "    .dataframe tbody tr th:only-of-type {\n",
       "        vertical-align: middle;\n",
       "    }\n",
       "\n",
       "    .dataframe tbody tr th {\n",
       "        vertical-align: top;\n",
       "    }\n",
       "\n",
       "    .dataframe thead th {\n",
       "        text-align: right;\n",
       "    }\n",
       "</style>\n",
       "<table border=\"1\" class=\"dataframe\">\n",
       "  <thead>\n",
       "    <tr style=\"text-align: right;\">\n",
       "      <th></th>\n",
       "      <th>Id</th>\n",
       "      <th>answer_set</th>\n",
       "      <th>student_response</th>\n",
       "      <th>question_key</th>\n",
       "      <th>answer_key</th>\n",
       "    </tr>\n",
       "  </thead>\n",
       "  <tbody>\n",
       "    <tr>\n",
       "      <th>111</th>\n",
       "      <td>1784</td>\n",
       "      <td>1</td>\n",
       "      <td>To replicate the experiment by just reading th...</td>\n",
       "      <td>A group of students wrote the following proced...</td>\n",
       "      <td>how much vinegar was used in each container\\nw...</td>\n",
       "    </tr>\n",
       "    <tr>\n",
       "      <th>1162</th>\n",
       "      <td>15763</td>\n",
       "      <td>6</td>\n",
       "      <td>the cell membrane, mitochondria, and ribosomes.</td>\n",
       "      <td>List and describe three processes used by cell...</td>\n",
       "      <td>Selective permeability is used by the cell mem...</td>\n",
       "    </tr>\n",
       "  </tbody>\n",
       "</table>\n",
       "</div>"
      ],
      "text/plain": [
       "         Id  answer_set                                   student_response  \\\n",
       "111    1784           1  To replicate the experiment by just reading th...   \n",
       "1162  15763           6    the cell membrane, mitochondria, and ribosomes.   \n",
       "\n",
       "                                           question_key  \\\n",
       "111   A group of students wrote the following proced...   \n",
       "1162  List and describe three processes used by cell...   \n",
       "\n",
       "                                             answer_key  \n",
       "111   how much vinegar was used in each container\\nw...  \n",
       "1162  Selective permeability is used by the cell mem...  "
      ]
     },
     "execution_count": 43,
     "metadata": {},
     "output_type": "execute_result"
    }
   ],
   "source": [
    "test_set.sample(2)"
   ]
  },
  {
   "cell_type": "markdown",
   "metadata": {},
   "source": [
    "### Preprocessing all data"
   ]
  },
  {
   "cell_type": "code",
   "execution_count": 110,
   "metadata": {},
   "outputs": [],
   "source": [
    "from sklearn.model_selection import train_test_split"
   ]
  },
  {
   "cell_type": "code",
   "execution_count": 111,
   "metadata": {},
   "outputs": [],
   "source": [
    "new_dataset=training_examples[['answer_set','student_response','question_key','answer_key']].copy()\n",
    "X,y= new_dataset,training_examples['score1']\n"
   ]
  },
  {
   "cell_type": "code",
   "execution_count": 112,
   "metadata": {},
   "outputs": [],
   "source": [
    "\n",
    "X_train,X_test,y_train,y_test=train_test_split(X,y,test_size=0.33,random_state=42)"
   ]
  },
  {
   "cell_type": "code",
   "execution_count": 113,
   "metadata": {},
   "outputs": [
    {
     "data": {
      "text/html": [
       "<div>\n",
       "<style scoped>\n",
       "    .dataframe tbody tr th:only-of-type {\n",
       "        vertical-align: middle;\n",
       "    }\n",
       "\n",
       "    .dataframe tbody tr th {\n",
       "        vertical-align: top;\n",
       "    }\n",
       "\n",
       "    .dataframe thead th {\n",
       "        text-align: right;\n",
       "    }\n",
       "</style>\n",
       "<table border=\"1\" class=\"dataframe\">\n",
       "  <thead>\n",
       "    <tr style=\"text-align: right;\">\n",
       "      <th></th>\n",
       "      <th>answer_set</th>\n",
       "      <th>student_response</th>\n",
       "      <th>question_key</th>\n",
       "      <th>answer_key</th>\n",
       "    </tr>\n",
       "  </thead>\n",
       "  <tbody>\n",
       "    <tr>\n",
       "      <th>8036</th>\n",
       "      <td>5</td>\n",
       "      <td>After mRNA leaves the nucleus it codes for</td>\n",
       "      <td>Starting with mRNA leaving the nucleus list an...</td>\n",
       "      <td>mRNA exits nucleus via nuclear pore\\nmRNA trav...</td>\n",
       "    </tr>\n",
       "  </tbody>\n",
       "</table>\n",
       "</div>"
      ],
      "text/plain": [
       "      answer_set                            student_response  \\\n",
       "8036           5  After mRNA leaves the nucleus it codes for   \n",
       "\n",
       "                                           question_key  \\\n",
       "8036  Starting with mRNA leaving the nucleus list an...   \n",
       "\n",
       "                                             answer_key  \n",
       "8036  mRNA exits nucleus via nuclear pore\\nmRNA trav...  "
      ]
     },
     "execution_count": 113,
     "metadata": {},
     "output_type": "execute_result"
    }
   ],
   "source": [
    "X_train.sample(1)"
   ]
  },
  {
   "cell_type": "code",
   "execution_count": 114,
   "metadata": {},
   "outputs": [
    {
     "data": {
      "text/html": [
       "<div>\n",
       "<style scoped>\n",
       "    .dataframe tbody tr th:only-of-type {\n",
       "        vertical-align: middle;\n",
       "    }\n",
       "\n",
       "    .dataframe tbody tr th {\n",
       "        vertical-align: top;\n",
       "    }\n",
       "\n",
       "    .dataframe thead th {\n",
       "        text-align: right;\n",
       "    }\n",
       "</style>\n",
       "<table border=\"1\" class=\"dataframe\">\n",
       "  <thead>\n",
       "    <tr style=\"text-align: right;\">\n",
       "      <th></th>\n",
       "      <th>answer_set</th>\n",
       "      <th>student_response</th>\n",
       "      <th>question_key</th>\n",
       "      <th>answer_key</th>\n",
       "    </tr>\n",
       "  </thead>\n",
       "  <tbody>\n",
       "    <tr>\n",
       "      <th>9868</th>\n",
       "      <td>6</td>\n",
       "      <td>Movement, so they can get place to place</td>\n",
       "      <td>List and describe three processes used by cell...</td>\n",
       "      <td>Selective permeability is used by the cell mem...</td>\n",
       "    </tr>\n",
       "  </tbody>\n",
       "</table>\n",
       "</div>"
      ],
      "text/plain": [
       "      answer_set                          student_response  \\\n",
       "9868           6  Movement, so they can get place to place   \n",
       "\n",
       "                                           question_key  \\\n",
       "9868  List and describe three processes used by cell...   \n",
       "\n",
       "                                             answer_key  \n",
       "9868  Selective permeability is used by the cell mem...  "
      ]
     },
     "execution_count": 114,
     "metadata": {},
     "output_type": "execute_result"
    }
   ],
   "source": [
    "X_test.sample(1)"
   ]
  },
  {
   "cell_type": "code",
   "execution_count": 115,
   "metadata": {},
   "outputs": [],
   "source": [
    "# msk=np.random.rand(len(training_examples))<0.8\n",
    "# train=training_examples[msk]\n",
    "# test=training_examples[~msk]"
   ]
  },
  {
   "cell_type": "code",
   "execution_count": 116,
   "metadata": {},
   "outputs": [],
   "source": [
    "# len(train)+len(test)"
   ]
  },
  {
   "cell_type": "code",
   "execution_count": 117,
   "metadata": {},
   "outputs": [],
   "source": [
    "# len(training_examples)"
   ]
  },
  {
   "cell_type": "code",
   "execution_count": 118,
   "metadata": {},
   "outputs": [],
   "source": [
    "# complete_dataset=pd.concat([train], keys=['train'],sort=False)"
   ]
  },
  {
   "cell_type": "code",
   "execution_count": 119,
   "metadata": {},
   "outputs": [],
   "source": [
    "# complete_dataset"
   ]
  },
  {
   "cell_type": "markdown",
   "metadata": {},
   "source": [
    "If you are working with basic NLP techniques like BOW, Count Vectorizer or TF-IDF(Term Frequency and Inverse Document Frequency) then removing stopwords is a good idea because stopwords act like noise for these methods. If you working with LSTM’s or other models which capture the semantic meaning and the meaning of a word depends on the context of the previous text, then it becomes important not to remove stopwords."
   ]
  },
  {
   "cell_type": "code",
   "execution_count": 120,
   "metadata": {},
   "outputs": [],
   "source": [
    "# complete_dataset=training_examples"
   ]
  },
  {
   "cell_type": "code",
   "execution_count": 121,
   "metadata": {},
   "outputs": [],
   "source": [
    "# complete_dataset"
   ]
  },
  {
   "cell_type": "code",
   "execution_count": 122,
   "metadata": {},
   "outputs": [],
   "source": [
    "import numpy as np\n",
    "train_texts= np.array(X_train[\"student_response\"]+ \" \"+X_train[\"answer_key\"])"
   ]
  },
  {
   "cell_type": "code",
   "execution_count": 123,
   "metadata": {},
   "outputs": [],
   "source": [
    "test_texts = np.array(X_test[\"student_response\"]+\" \"+X_test[\"answer_key\"])"
   ]
  },
  {
   "cell_type": "code",
   "execution_count": 124,
   "metadata": {},
   "outputs": [],
   "source": [
    "from sklearn.feature_extraction.text import CountVectorizer\n",
    "from sklearn.feature_extraction.text import TfidfTransformer"
   ]
  },
  {
   "cell_type": "markdown",
   "metadata": {},
   "source": [
    "#### Count Vectorizer or TF-IDF(Term Frequency and Inverse Document Frequency)"
   ]
  },
  {
   "cell_type": "code",
   "execution_count": 125,
   "metadata": {},
   "outputs": [],
   "source": [
    "vectorizer1=CountVectorizer() #Convert a text to a matrix of token counts\n",
    "train_text_frequency=vectorizer1.fit_transform(train_texts)#Learn vocabulary and idf, return document-term matrix.\n",
    "vectorizer2=CountVectorizer()\n",
    "test_text_frequency=vectorizer2.fit_transform(test_texts)"
   ]
  },
  {
   "cell_type": "code",
   "execution_count": 126,
   "metadata": {},
   "outputs": [],
   "source": [
    "#Tf means term-frequency while tf-idf means term-frequency times inverse document-frequency.\n",
    "train_tfidf_transformer = TfidfTransformer().fit(train_text_frequency)#Learn the idf vector (global term weights)\n",
    "train_txt_tfidf=train_tfidf_transformer.transform(train_text_frequency)#Transform a count matrix to a tf-idf representation"
   ]
  },
  {
   "cell_type": "code",
   "execution_count": 127,
   "metadata": {},
   "outputs": [],
   "source": [
    "test_tfidf_transformer = TfidfTransformer().fit(test_text_frequency)#Learn the idf vector (global term weights)\n",
    "test_txt_tfidf=test_tfidf_transformer.transform(test_text_frequency)#Transform a count matrix to a tf-idf representation"
   ]
  },
  {
   "cell_type": "code",
   "execution_count": 128,
   "metadata": {},
   "outputs": [],
   "source": [
    "# top_n=100 #top 100 features/words present in the text\n",
    "# txt_freqs_sum= text_frequency.toarray().sum(axis=0)\n",
    "# indices = np.argsort(txt_freqs_sum)[::-1]#np.argsort(vectorizer.idf_)[::-1]\n",
    "# features =count_vector.get_feature_names()# vectorizer.get_feature_names()\n",
    "# top_features = [[features[i],txt_freqs_sum[i]] for i in indices[:top_n]]\n",
    "# list(top_features)"
   ]
  },
  {
   "cell_type": "code",
   "execution_count": 129,
   "metadata": {},
   "outputs": [
    {
     "data": {
      "text/plain": [
       "<1738x3397 sparse matrix of type '<class 'numpy.float64'>'\n",
       "\twith 126155 stored elements in Compressed Sparse Row format>"
      ]
     },
     "execution_count": 129,
     "metadata": {},
     "output_type": "execute_result"
    }
   ],
   "source": [
    "test_txt_tfidf"
   ]
  },
  {
   "cell_type": "code",
   "execution_count": 130,
   "metadata": {},
   "outputs": [],
   "source": [
    "train_tfidf  =train_txt_tfidf\n",
    "train_tfidf_Y=y_train\n",
    "test_tfidf   =test_txt_tfidf\n",
    "test_tfidf_Y =y_test"
   ]
  },
  {
   "cell_type": "code",
   "execution_count": 131,
   "metadata": {},
   "outputs": [
    {
     "data": {
      "text/plain": [
       "(1738,)"
      ]
     },
     "execution_count": 131,
     "metadata": {},
     "output_type": "execute_result"
    }
   ],
   "source": [
    "test_tfidf_Y.shape"
   ]
  },
  {
   "cell_type": "code",
   "execution_count": 132,
   "metadata": {},
   "outputs": [],
   "source": [
    "from sklearn.naive_bayes import GaussianNB"
   ]
  },
  {
   "cell_type": "code",
   "execution_count": 133,
   "metadata": {},
   "outputs": [
    {
     "name": "stdout",
     "output_type": "stream",
     "text": [
      "Number of mislabeled points out of a total 3526 points : 898\n"
     ]
    }
   ],
   "source": [
    "gnb = GaussianNB()\n",
    "predictor_GaussianNB= gnb.fit(train_tfidf.toarray(), train_tfidf_Y)\n",
    "y_pred_GaussianNB= predictor_GaussianNB.predict(train_tfidf.toarray())\n",
    "print(\"Number of mislabeled points out of a total %d points : %d\" % (train_tfidf.shape[0],(train_tfidf_Y != y_pred_GaussianNB).sum()))"
   ]
  },
  {
   "attachments": {
    "image.png": {
     "image/png": "[encoded data removed]"
    }
   },
   "cell_type": "markdown",
   "metadata": {},
   "source": [
    "![image.png](attachment:image.png)"
   ]
  },
  {
   "cell_type": "code",
   "execution_count": 134,
   "metadata": {},
   "outputs": [],
   "source": [
    "from sklearn.metrics import f1_score"
   ]
  },
  {
   "cell_type": "code",
   "execution_count": 135,
   "metadata": {},
   "outputs": [
    {
     "name": "stdout",
     "output_type": "stream",
     "text": [
      "0.7727386711855427\n"
     ]
    }
   ],
   "source": [
    "print (f1_score(train_tfidf_Y, y_pred_GaussianNB, average='weighted'))"
   ]
  },
  {
   "cell_type": "raw",
   "metadata": {},
   "source": [
    "y_test_GaussianNB = predictor_GaussianNB.predict(test_tfidf.toarray())\n",
    "#print (f1_score(test_tfidf_Y, y_test_GaussianNB, average='weighted'))\n",
    "y_test_GaussianNB"
   ]
  }
 ],
 "metadata": {
  "kernelspec": {
   "display_name": "Python 3",
   "language": "python",
   "name": "python3"
  },
  "language_info": {
   "codemirror_mode": {
    "name": "ipython",
    "version": 3
   },
   "file_extension": ".py",
   "mimetype": "text/x-python",
   "name": "python",
   "nbconvert_exporter": "python",
   "pygments_lexer": "ipython3",
   "version": "3.6.5"
  }
 },
 "nbformat": 4,
 "nbformat_minor": 2
}

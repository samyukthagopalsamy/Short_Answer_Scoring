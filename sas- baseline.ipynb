{
 "cells": [
  {
   "cell_type": "code",
   "execution_count": 1,
   "metadata": {},
   "outputs": [],
   "source": [
    "import pandas as pd\n",
    "import numpy as np"
   ]
  },
  {
   "cell_type": "markdown",
   "metadata": {},
   "source": [
    "The dataset is called \"asap-sas\". Official description at [Kaggle asap-sas](https://www.kaggle.com/c/asap-sas)"
   ]
  },
  {
   "cell_type": "code",
   "execution_count": 2,
   "metadata": {},
   "outputs": [],
   "source": [
    "complete_dataset=pd.read_csv(\"C:/Users/superuser/Desktop/ResearchProject/sas-dataset.csv\",encoding=\"ISO-8859-1\")"
   ]
  },
  {
   "cell_type": "code",
   "execution_count": 3,
   "metadata": {},
   "outputs": [
    {
     "data": {
      "text/html": [
       "<div>\n",
       "<style scoped>\n",
       "    .dataframe tbody tr th:only-of-type {\n",
       "        vertical-align: middle;\n",
       "    }\n",
       "\n",
       "    .dataframe tbody tr th {\n",
       "        vertical-align: top;\n",
       "    }\n",
       "\n",
       "    .dataframe thead th {\n",
       "        text-align: right;\n",
       "    }\n",
       "</style>\n",
       "<table border=\"1\" class=\"dataframe\">\n",
       "  <thead>\n",
       "    <tr style=\"text-align: right;\">\n",
       "      <th></th>\n",
       "      <th>Id</th>\n",
       "      <th>answer_set</th>\n",
       "      <th>score1</th>\n",
       "      <th>score2</th>\n",
       "      <th>question_key</th>\n",
       "      <th>student_response</th>\n",
       "      <th>answer_key</th>\n",
       "    </tr>\n",
       "  </thead>\n",
       "  <tbody>\n",
       "    <tr>\n",
       "      <th>4474</th>\n",
       "      <td>14966</td>\n",
       "      <td>6</td>\n",
       "      <td>0</td>\n",
       "      <td>0</td>\n",
       "      <td>List and describe three processes used by cell...</td>\n",
       "      <td>One movement in the cell is the RNA. Another t...</td>\n",
       "      <td>Selective permeability is used by the cell mem...</td>\n",
       "    </tr>\n",
       "    <tr>\n",
       "      <th>4527</th>\n",
       "      <td>15019</td>\n",
       "      <td>6</td>\n",
       "      <td>0</td>\n",
       "      <td>0</td>\n",
       "      <td>List and describe three processes used by cell...</td>\n",
       "      <td>1. tRNA2. lysosomes3. other organelles</td>\n",
       "      <td>Selective permeability is used by the cell mem...</td>\n",
       "    </tr>\n",
       "    <tr>\n",
       "      <th>874</th>\n",
       "      <td>875</td>\n",
       "      <td>1</td>\n",
       "      <td>1</td>\n",
       "      <td>0</td>\n",
       "      <td>A group of students wrote the following proced...</td>\n",
       "      <td>In order to replicate the experiment one would...</td>\n",
       "      <td>how much vinegar was used in each container\\nw...</td>\n",
       "    </tr>\n",
       "    <tr>\n",
       "      <th>1640</th>\n",
       "      <td>1641</td>\n",
       "      <td>1</td>\n",
       "      <td>2</td>\n",
       "      <td>2</td>\n",
       "      <td>A group of students wrote the following proced...</td>\n",
       "      <td>First you would name the four distrant substan...</td>\n",
       "      <td>how much vinegar was used in each container\\nw...</td>\n",
       "    </tr>\n",
       "    <tr>\n",
       "      <th>5239</th>\n",
       "      <td>15731</td>\n",
       "      <td>6</td>\n",
       "      <td>0</td>\n",
       "      <td>0</td>\n",
       "      <td>List and describe three processes used by cell...</td>\n",
       "      <td>mRNAtRNArRNA</td>\n",
       "      <td>Selective permeability is used by the cell mem...</td>\n",
       "    </tr>\n",
       "  </tbody>\n",
       "</table>\n",
       "</div>"
      ],
      "text/plain": [
       "         Id  answer_set  score1  score2  \\\n",
       "4474  14966           6       0       0   \n",
       "4527  15019           6       0       0   \n",
       "874     875           1       1       0   \n",
       "1640   1641           1       2       2   \n",
       "5239  15731           6       0       0   \n",
       "\n",
       "                                           question_key  \\\n",
       "4474  List and describe three processes used by cell...   \n",
       "4527  List and describe three processes used by cell...   \n",
       "874   A group of students wrote the following proced...   \n",
       "1640  A group of students wrote the following proced...   \n",
       "5239  List and describe three processes used by cell...   \n",
       "\n",
       "                                       student_response  \\\n",
       "4474  One movement in the cell is the RNA. Another t...   \n",
       "4527             1. tRNA2. lysosomes3. other organelles   \n",
       "874   In order to replicate the experiment one would...   \n",
       "1640  First you would name the four distrant substan...   \n",
       "5239                                       mRNAtRNArRNA   \n",
       "\n",
       "                                             answer_key  \n",
       "4474  Selective permeability is used by the cell mem...  \n",
       "4527  Selective permeability is used by the cell mem...  \n",
       "874   how much vinegar was used in each container\\nw...  \n",
       "1640  how much vinegar was used in each container\\nw...  \n",
       "5239  Selective permeability is used by the cell mem...  "
      ]
     },
     "execution_count": 3,
     "metadata": {},
     "output_type": "execute_result"
    }
   ],
   "source": [
    "complete_dataset.sample(5)"
   ]
  },
  {
   "cell_type": "code",
   "execution_count": 4,
   "metadata": {},
   "outputs": [],
   "source": [
    "#finding average of score1 and score2\n",
    "complete_dataset['avg_score']=complete_dataset[['score1','score2']].mean(axis=1).astype('int64')"
   ]
  },
  {
   "cell_type": "code",
   "execution_count": 5,
   "metadata": {},
   "outputs": [
    {
     "data": {
      "text/plain": [
       "Id                   int64\n",
       "answer_set           int64\n",
       "score1               int64\n",
       "score2               int64\n",
       "question_key        object\n",
       "student_response    object\n",
       "answer_key          object\n",
       "avg_score            int64\n",
       "dtype: object"
      ]
     },
     "execution_count": 5,
     "metadata": {},
     "output_type": "execute_result"
    }
   ],
   "source": [
    "complete_dataset.dtypes"
   ]
  },
  {
   "cell_type": "code",
   "execution_count": 6,
   "metadata": {},
   "outputs": [
    {
     "data": {
      "text/plain": [
       "(5264, 8)"
      ]
     },
     "execution_count": 6,
     "metadata": {},
     "output_type": "execute_result"
    }
   ],
   "source": [
    "complete_dataset.shape # there are around 5200 examples"
   ]
  },
  {
   "cell_type": "code",
   "execution_count": 7,
   "metadata": {},
   "outputs": [
    {
     "data": {
      "text/html": [
       "<div>\n",
       "<style scoped>\n",
       "    .dataframe tbody tr th:only-of-type {\n",
       "        vertical-align: middle;\n",
       "    }\n",
       "\n",
       "    .dataframe tbody tr th {\n",
       "        vertical-align: top;\n",
       "    }\n",
       "\n",
       "    .dataframe thead th {\n",
       "        text-align: right;\n",
       "    }\n",
       "</style>\n",
       "<table border=\"1\" class=\"dataframe\">\n",
       "  <thead>\n",
       "    <tr style=\"text-align: right;\">\n",
       "      <th></th>\n",
       "      <th>Id</th>\n",
       "      <th>score1</th>\n",
       "      <th>score2</th>\n",
       "      <th>question_key</th>\n",
       "      <th>student_response</th>\n",
       "      <th>answer_key</th>\n",
       "      <th>avg_score</th>\n",
       "    </tr>\n",
       "    <tr>\n",
       "      <th>answer_set</th>\n",
       "      <th></th>\n",
       "      <th></th>\n",
       "      <th></th>\n",
       "      <th></th>\n",
       "      <th></th>\n",
       "      <th></th>\n",
       "      <th></th>\n",
       "    </tr>\n",
       "  </thead>\n",
       "  <tbody>\n",
       "    <tr>\n",
       "      <th>1</th>\n",
       "      <td>1672</td>\n",
       "      <td>1672</td>\n",
       "      <td>1672</td>\n",
       "      <td>1672</td>\n",
       "      <td>1672</td>\n",
       "      <td>1672</td>\n",
       "      <td>1672</td>\n",
       "    </tr>\n",
       "    <tr>\n",
       "      <th>5</th>\n",
       "      <td>1795</td>\n",
       "      <td>1795</td>\n",
       "      <td>1795</td>\n",
       "      <td>1795</td>\n",
       "      <td>1795</td>\n",
       "      <td>1795</td>\n",
       "      <td>1795</td>\n",
       "    </tr>\n",
       "    <tr>\n",
       "      <th>6</th>\n",
       "      <td>1797</td>\n",
       "      <td>1797</td>\n",
       "      <td>1797</td>\n",
       "      <td>1797</td>\n",
       "      <td>1797</td>\n",
       "      <td>1797</td>\n",
       "      <td>1797</td>\n",
       "    </tr>\n",
       "  </tbody>\n",
       "</table>\n",
       "</div>"
      ],
      "text/plain": [
       "              Id  score1  score2  question_key  student_response  answer_key  \\\n",
       "answer_set                                                                     \n",
       "1           1672    1672    1672          1672              1672        1672   \n",
       "5           1795    1795    1795          1795              1795        1795   \n",
       "6           1797    1797    1797          1797              1797        1797   \n",
       "\n",
       "            avg_score  \n",
       "answer_set             \n",
       "1                1672  \n",
       "5                1795  \n",
       "6                1797  "
      ]
     },
     "execution_count": 7,
     "metadata": {},
     "output_type": "execute_result"
    }
   ],
   "source": [
    "complete_dataset.groupby('answer_set').count() # this dataset contains three answer-set with student response and reference answers"
   ]
  },
  {
   "cell_type": "code",
   "execution_count": 8,
   "metadata": {},
   "outputs": [],
   "source": [
    "from sklearn.model_selection import train_test_split"
   ]
  },
  {
   "cell_type": "code",
   "execution_count": 9,
   "metadata": {},
   "outputs": [],
   "source": [
    "train, test=train_test_split(complete_dataset,test_size=0.4,random_state=42,shuffle=True)"
   ]
  },
  {
   "cell_type": "code",
   "execution_count": 10,
   "metadata": {},
   "outputs": [],
   "source": [
    "multiIndex_dataset=pd.concat([train,test], keys=['train', 'test'])# MultiIndexing Pandas"
   ]
  },
  {
   "cell_type": "code",
   "execution_count": 11,
   "metadata": {},
   "outputs": [],
   "source": [
    "texts=np.array(multiIndex_dataset[\"answer_key\"]+\" \"+multiIndex_dataset[\"student_response\"])"
   ]
  },
  {
   "cell_type": "markdown",
   "metadata": {},
   "source": [
    "#### Count Vectorizer or TF-IDF(Term Frequency and Inverse Document Frequency)"
   ]
  },
  {
   "cell_type": "markdown",
   "metadata": {},
   "source": [
    "Text preprocessing, tokenizing and filtering of stopwords are all included in CountVectorizer, which builds a dictionary of features and transforms documents to feature vectors."
   ]
  },
  {
   "cell_type": "code",
   "execution_count": 12,
   "metadata": {},
   "outputs": [],
   "source": [
    "from sklearn.feature_extraction.text import CountVectorizer\n",
    "from sklearn.feature_extraction.text import TfidfTransformer"
   ]
  },
  {
   "cell_type": "markdown",
   "metadata": {},
   "source": [
    "If you are working with basic NLP techniques like BOW, Count Vectorizer or TF-IDF(Term Frequency and Inverse Document Frequency) then removing stopwords is a good idea because stopwords act like noise for these methods."
   ]
  },
  {
   "cell_type": "markdown",
   "metadata": {},
   "source": [
    "# [Check here for detailed tutorial](https://scikit-learn.org/stable/tutorial/text_analytics/working_with_text_data.html)"
   ]
  },
  {
   "cell_type": "code",
   "execution_count": 13,
   "metadata": {},
   "outputs": [
    {
     "data": {
      "text/plain": [
       "(5264, 6163)"
      ]
     },
     "execution_count": 13,
     "metadata": {},
     "output_type": "execute_result"
    }
   ],
   "source": [
    "vectorizer1 = CountVectorizer(stop_words='english')\n",
    "text_frequency = vectorizer1.fit_transform(texts)\n",
    "text_frequency.shape"
   ]
  },
  {
   "cell_type": "markdown",
   "metadata": {},
   "source": [
    "CountVectorizer supports counts of N-grams of words or consecutive characters. Once fitted, the vectorizer has built a dictionary of feature indices. The index value of a word in the vocabulary is linked to its frequency in the whole training corpus."
   ]
  },
  {
   "cell_type": "code",
   "execution_count": 14,
   "metadata": {},
   "outputs": [],
   "source": [
    "#Tf means term-frequency while tf-idf means term-frequency times inverse document-frequency.\n",
    "tfidf_transformer = TfidfTransformer().fit(text_frequency)\n",
    "txt_tfidf=tfidf_transformer.transform(text_frequency)"
   ]
  },
  {
   "cell_type": "code",
   "execution_count": 15,
   "metadata": {},
   "outputs": [],
   "source": [
    "train_tfidf=txt_tfidf[multiIndex_dataset.index.codes[0]==0,:]\n",
    "train_tfidf_Y=train[\"avg_score\"]\n",
    "test_tfidf=txt_tfidf[multiIndex_dataset.index.codes[0]==1,:]\n",
    "test_tfidf_Y=test[\"avg_score\"]"
   ]
  },
  {
   "cell_type": "code",
   "execution_count": 16,
   "metadata": {},
   "outputs": [],
   "source": [
    "tfidf_transformer = TfidfTransformer().fit(text_frequency)\n",
    "txt_tfidf=tfidf_transformer.transform(text_frequency)"
   ]
  },
  {
   "cell_type": "markdown",
   "metadata": {},
   "source": [
    "Now that we have the features, we can train a classifier to try to predict the score of student response. Let’s start with a naïve Bayes classifier, which provides a nice baseline for this task."
   ]
  },
  {
   "cell_type": "markdown",
   "metadata": {},
   "source": [
    "scikit-learn includes several variants of this classifier; the one most suitable for word counts is the multinomial variant:"
   ]
  },
  {
   "cell_type": "code",
   "execution_count": 17,
   "metadata": {},
   "outputs": [],
   "source": [
    "from sklearn.naive_bayes import MultinomialNB"
   ]
  },
  {
   "cell_type": "code",
   "execution_count": 18,
   "metadata": {},
   "outputs": [],
   "source": [
    "clf = MultinomialNB()\n",
    "predictor_MultinomialNB= clf.fit(train_tfidf.toarray(), train_tfidf_Y)\n",
    "y_pred_MultinomialNB= predictor_MultinomialNB.predict(train_tfidf.toarray())\n"
   ]
  },
  {
   "cell_type": "code",
   "execution_count": 19,
   "metadata": {},
   "outputs": [],
   "source": [
    "from sklearn.metrics import f1_score\n",
    "from sklearn.metrics import cohen_kappa_score"
   ]
  },
  {
   "cell_type": "markdown",
   "metadata": {},
   "source": [
    "Cohen's kappa coefficient (κ) is a statistic that is used to measure inter-rater reliability (and also Intra-rater reliability) for qualitative (categorical) items. It is generally thought to be a more robust measure than simple percent agreement calculation, as κ takes into account the possibility of the agreement occurring by chance.<br>\n",
    "The F1 score is the harmonic mean of the precision and recall, where an F1 score reaches its best value at 1 (perfect precision and recall)."
   ]
  },
  {
   "attachments": {
    "image.png": {
     "image/png": "[encoded data removed]"
    }
   },
   "cell_type": "markdown",
   "metadata": {},
   "source": [
    "![image.png](attachment:image.png)\n"
   ]
  },
  {
   "cell_type": "code",
   "execution_count": 20,
   "metadata": {},
   "outputs": [
    {
     "name": "stdout",
     "output_type": "stream",
     "text": [
      "0.657725677676107\n"
     ]
    }
   ],
   "source": [
    "print (f1_score(train_tfidf_Y, y_pred_MultinomialNB, average='weighted',labels=np.unique(y_pred_MultinomialNB)))"
   ]
  },
  {
   "cell_type": "code",
   "execution_count": 21,
   "metadata": {},
   "outputs": [
    {
     "name": "stdout",
     "output_type": "stream",
     "text": [
      "0.6410607164738138\n"
     ]
    }
   ],
   "source": [
    "y_test_MultinomialNB = predictor_MultinomialNB.predict(test_tfidf.toarray())\n",
    "print (f1_score(test_tfidf_Y, y_test_MultinomialNB, average='weighted',labels=np.unique(y_test_MultinomialNB)))"
   ]
  },
  {
   "cell_type": "code",
   "execution_count": 22,
   "metadata": {},
   "outputs": [
    {
     "name": "stdout",
     "output_type": "stream",
     "text": [
      "Multinomial naive Bayes\n",
      "Train mean-squared error  0.6732108929702343\n",
      "Test mean-squared error  0.6505223171889839\n",
      "Train kappa score  0.3708231842749813\n",
      "Test kappa score  0.35008285309843745\n"
     ]
    }
   ],
   "source": [
    "print(\"Multinomial naive Bayes\")\n",
    "print(\"Train mean-squared error \",np.mean(train_tfidf_Y == y_pred_MultinomialNB))\n",
    "print(\"Test mean-squared error \",np.mean(test_tfidf_Y == y_test_MultinomialNB))\n",
    "print(\"Train kappa score \",cohen_kappa_score(train_tfidf_Y, y_pred_MultinomialNB))\n",
    "print(\"Test kappa score \",cohen_kappa_score(test_tfidf_Y, y_test_MultinomialNB))\n"
   ]
  },
  {
   "cell_type": "code",
   "execution_count": 23,
   "metadata": {},
   "outputs": [],
   "source": [
    "from sklearn.linear_model import SGDClassifier"
   ]
  },
  {
   "cell_type": "code",
   "execution_count": 24,
   "metadata": {},
   "outputs": [],
   "source": [
    "clf=SGDClassifier(loss='hinge', penalty='l2', alpha=1e-3, random_state=42, max_iter=10000, tol=0.19)"
   ]
  },
  {
   "cell_type": "code",
   "execution_count": 25,
   "metadata": {},
   "outputs": [],
   "source": [
    "predictor_SGD= clf.fit(train_tfidf.toarray(), train_tfidf_Y)\n",
    "y_pred_SGD= predictor_SGD.predict(train_tfidf.toarray())"
   ]
  },
  {
   "cell_type": "code",
   "execution_count": 26,
   "metadata": {},
   "outputs": [
    {
     "name": "stdout",
     "output_type": "stream",
     "text": [
      "0.6548572224619804\n"
     ]
    }
   ],
   "source": [
    "y_test_SGD = predictor_SGD.predict(test_tfidf.toarray())\n",
    "print (f1_score(test_tfidf_Y, y_test_SGD, average='weighted',labels=np.unique(y_test_SGD)))"
   ]
  },
  {
   "cell_type": "code",
   "execution_count": 27,
   "metadata": {},
   "outputs": [
    {
     "name": "stdout",
     "output_type": "stream",
     "text": [
      "Stochastic gradient descent\n",
      "Train mean-squared error  0.7853071564281191\n",
      "Test mean-squared error  0.7127255460588794\n",
      "Train kappa score  0.5360431955389919\n",
      "Test kappa score  0.38890969879775206\n"
     ]
    }
   ],
   "source": [
    "print(\"Stochastic gradient descent\")\n",
    "print(\"Train mean-squared error \",np.mean(train_tfidf_Y == y_pred_SGD))\n",
    "print(\"Test mean-squared error \",np.mean(test_tfidf_Y == y_test_SGD))\n",
    "print(\"Train kappa score \",cohen_kappa_score(train_tfidf_Y, y_pred_SGD))\n",
    "print(\"Test kappa score \",cohen_kappa_score(test_tfidf_Y, y_test_SGD))\n"
   ]
  },
  {
   "cell_type": "markdown",
   "metadata": {},
   "source": [
    "Achieved 70% accuracy using SVM"
   ]
  },
  {
   "cell_type": "code",
   "execution_count": null,
   "metadata": {},
   "outputs": [],
   "source": []
  }
 ],
 "metadata": {
  "kernelspec": {
   "display_name": "Python 3",
   "language": "python",
   "name": "python3"
  },
  "language_info": {
   "codemirror_mode": {
    "name": "ipython",
    "version": 3
   },
   "file_extension": ".py",
   "mimetype": "text/x-python",
   "name": "python",
   "nbconvert_exporter": "python",
   "pygments_lexer": "ipython3",
   "version": "3.6.5"
  }
 },
 "nbformat": 4,
 "nbformat_minor": 2
}
